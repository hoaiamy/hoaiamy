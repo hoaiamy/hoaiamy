{
 "cells": [
  {
   "cell_type": "markdown",
   "id": "1d233bf9",
   "metadata": {},
   "source": [
    "What is the most optimal skills for Data Scientists to learn?"
   ]
  },
  {
   "cell_type": "code",
   "execution_count": 1,
   "id": "04b886f1",
   "metadata": {},
   "outputs": [],
   "source": [
    "# Importing libraries\n",
    "import ast\n",
    "import pandas as pd\n",
    "import numpy as np\n",
    "import matplotlib.pyplot as plt\n",
    "import seaborn as sns\n",
    "\n",
    "# Load Dataset\n",
    "df_original =pd.read_csv(\"hf://datasets/lukebarousse/data_jobs/data_jobs.csv\")\n",
    "\n",
    "# Data CLeanup\n",
    "df_original['job_posted_date']=pd.to_datetime(df_original['job_posted_date'])\n",
    "df_original['job_skills']=df_original['job_skills'].apply(lambda x:ast.literal_eval(x) if pd.notna(x) else x)"
   ]
  },
  {
   "cell_type": "code",
   "execution_count": 5,
   "id": "4d70b749",
   "metadata": {},
   "outputs": [
    {
     "data": {
      "text/html": [
       "<div>\n",
       "<style scoped>\n",
       "    .dataframe tbody tr th:only-of-type {\n",
       "        vertical-align: middle;\n",
       "    }\n",
       "\n",
       "    .dataframe tbody tr th {\n",
       "        vertical-align: top;\n",
       "    }\n",
       "\n",
       "    .dataframe thead th {\n",
       "        text-align: right;\n",
       "    }\n",
       "</style>\n",
       "<table border=\"1\" class=\"dataframe\">\n",
       "  <thead>\n",
       "    <tr style=\"text-align: right;\">\n",
       "      <th></th>\n",
       "      <th>salary_year_avg</th>\n",
       "      <th>job_skills</th>\n",
       "    </tr>\n",
       "  </thead>\n",
       "  <tbody>\n",
       "    <tr>\n",
       "      <th>100</th>\n",
       "      <td>228222.0</td>\n",
       "      <td>sql</td>\n",
       "    </tr>\n",
       "    <tr>\n",
       "      <th>100</th>\n",
       "      <td>228222.0</td>\n",
       "      <td>r</td>\n",
       "    </tr>\n",
       "    <tr>\n",
       "      <th>100</th>\n",
       "      <td>228222.0</td>\n",
       "      <td>python</td>\n",
       "    </tr>\n",
       "    <tr>\n",
       "      <th>100</th>\n",
       "      <td>228222.0</td>\n",
       "      <td>express</td>\n",
       "    </tr>\n",
       "    <tr>\n",
       "      <th>116</th>\n",
       "      <td>114000.0</td>\n",
       "      <td>r</td>\n",
       "    </tr>\n",
       "  </tbody>\n",
       "</table>\n",
       "</div>"
      ],
      "text/plain": [
       "     salary_year_avg job_skills\n",
       "100         228222.0        sql\n",
       "100         228222.0          r\n",
       "100         228222.0     python\n",
       "100         228222.0    express\n",
       "116         114000.0          r"
      ]
     },
     "execution_count": 5,
     "metadata": {},
     "output_type": "execute_result"
    }
   ],
   "source": [
    "df_DS_US=df_original[(df_original['job_title_short']=='Data Scientist')&(df_original['job_country']=='United States')].copy()\n",
    "\n",
    "# Drop Nan values from the 'salary_year_avg' column for accurate visualization\n",
    "df_DS_US=df_DS_US.dropna(subset=['salary_year_avg'])\n",
    "\n",
    "df_DS_US_exploded=df_DS_US.explode('job_skills')\n",
    "\n",
    "df_DS_US_exploded[['salary_year_avg','job_skills']].head(5)"
   ]
  }
 ],
 "metadata": {
  "kernelspec": {
   "display_name": "base",
   "language": "python",
   "name": "python3"
  },
  "language_info": {
   "codemirror_mode": {
    "name": "ipython",
    "version": 3
   },
   "file_extension": ".py",
   "mimetype": "text/x-python",
   "name": "python",
   "nbconvert_exporter": "python",
   "pygments_lexer": "ipython3",
   "version": "3.12.11"
  }
 },
 "nbformat": 4,
 "nbformat_minor": 5
}
